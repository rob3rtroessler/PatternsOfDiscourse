{
 "cells": [
  {
   "cell_type": "code",
   "execution_count": 152,
   "metadata": {},
   "outputs": [],
   "source": [
    "import re\n",
    "import string\n",
    "import json"
   ]
  },
  {
   "cell_type": "code",
   "execution_count": 153,
   "metadata": {},
   "outputs": [
    {
     "name": "stdout",
     "output_type": "stream",
     "text": [
      "Displaying 47 of 47 matches:\n",
      "mes . Der Angsttraum 446 e ) Der Primär- und der Sekundärvorgang . Die Verdrängung 456 f ) Das Unbewußte und das Bewußtsein . Die Realität 472 VIII . Literaturverzeichnis : A. Bis zum Erscheinen dies\n",
      "igung_ der zweiten psychischen Instanz durch die sonst unterdrückte erste auffasse , wurde die unbewußte Feindseligkeit gegen die Mutter motorisch mächtig ; als dann die erste Beruhigung eintrat , de\n",
      "zärtlich an ihren Müttern hängen . Ein andermal hatte ich Gelegenheit , tiefe Einblicke in das unbewußte Seelenleben eines jungen Mannes zu tun , der durch Zwangsneurose fast existenzunfähig , nicht \n",
      " der Pflanzen symbolisiert ; das Blumenschenken unter Liebenden hat vielleicht überhaupt diese unbewußte Bedeutung . » Der Geburtstag , den sie im Traume vorbereitet , bedeutet wohl die Geburt eines \n",
      "n seinen zahlreichen Komponenten ( 153 ) , von keinem anderen erübrigen so viele und so starke unbewußte Wünsche , die nun im Schlafzustande traumerzeugend wirken . Man darf bei der Traumdeutung dies\n",
      "r die sonderbare Angst so vieler Menschen , lebendig begraben zu werden , als auch die tiefste unbewußte Begründung des Glaubens an ein Fortleben nach dem Tode , welches nur die Projektion in die Zuk\n",
      "e aber vom Träumer mit verblüffender Sicherheit vollzogen werden . Vgl . auch _Jones_ , » Über unbewußte Zahlenbehandlung « ( Zentralbl . f. PS.-A . II , 1912 , S. 241 f. ) . Wenn wir diese und ähnli\n",
      "enwelt aufgehoben erscheint , so könnte auch die zentrifugale Erweckung von Affekten durch das unbewußte Denken während des Schlafes erschwert sein . Die Affektregungen , die während des Ablaufes der\n",
      "r geteilt hatte . Somit war einer der unablässig nagenden Wünsche des alternden Mannes als der unbewußte Traumerreger verraten . Der in anderen psychischen Schichten tobende Kampf zwischen der Eitelk\n",
      "n unserer Kenntnis nahe ; wie es aber solche bewußte Phantasien gibt , so kommen überreichlich unbewußte vor , die wegen ihres Inhaltes und ihrer Abkunft vom verdrängten Material unbewußt bleiben müs\n",
      "usammenhängend und dabei flüchtiger als andere Stücke desselben Traumes ; ich weiß , dies sind unbewußte Phantasien , die im Zusammenhange in den Traum gelangen , aber ich habe es nie erreicht , eine\n",
      "tinentraum . Bei meiner Auswahl von Beispielen für die Traumdeutung bin ich Träumen , in denen unbewußte Phantasien eine erheblichere Rolle spielen , möglichst ausgewichen , weil die Einführung diese\n",
      "( 182 ) . ( 182 ) Zur Einführung des Narzissmus . Jahrbuch der Psychoanalyse , VI , 1914 . Das unbewußte Denken und die Traumarbeit . Ich gehe nun daran , diese ausgedehnten Erörterungen über die Tra\n",
      "en zu verstehen : » . . . Es tritt hier das ein , was man beim künstlerischen Schaffen als das Unbewußte bezeichnet , das der Grund ist des großen Zaubers , den die Unerklärlichkeit der hohen Kunstwe\n",
      "rzichten können , und daß mit dem Aufhören dieser sofort unbekannte -- wie wir ungenau sagen : unbewußte -- Zielvorstellungen zur Macht kommen , die jetzt den Ablauf der ungewollten Vorstellungen det\n",
      "darf‹ und daß das bewußte Interesse an einer bestimmten Gedankenverbindung ein Antrieb für das Unbewußte ist , unter den unzähligen möglichen Verstellungen die zweckentsprechende herauszufinden . ›Es\n",
      "ter den unzähligen möglichen Verstellungen die zweckentsprechende herauszufinden . ›Es ist das Unbewußte , welches den Zwecken des Interesses gemäß wählt : und das gilt für die _Ideenassoziation beim\n",
      " für den Traum vom ~Ubw~ beigestellt wird , und wegen dieses letzteren Momentes wollen wir das unbewußte System als den Ausgangspunkt der Traumbildung annehmen . Diese Traumerregung wird nun wie alle\n",
      "te Wege , die nie veröden und den Erregungsvorgang immer wieder zur Abfuhr leiten , so oft die unbewußte Erregung sie wiederbesetzt . Um mich eines Gleichnisses zu bedienen : es gibt für sie keine an\n",
      "chte ein Zusammenhang gar nicht zu bestehen und bestand auch keiner in unserem Beispiele . Der unbewußte Wunsch als Triebkraft des Traumes . Ich kann es nun scharf bezeichnen , was der unbewußte Wuns\n",
      " Der unbewußte Wunsch als Triebkraft des Traumes . Ich kann es nun scharf bezeichnen , was der unbewußte Wunsch für den Traum bedeutet . Ich will zugeben , daß es eine ganze Klasse von Träumen gibt ,\n",
      "sthält und dann die Neurosenpsychologie um Auskunft befragt . Aus dieser erfährt man , daß die unbewußte Vorstellung als solche überhaupt unfähig ist , ins Vorbewußte einzutreten , und daß sie dort n\n",
      "die selbst genügend von der im Vorbewußten tätigen Aufmerksamkeit auf sich gezogen haben . Das Unbewußte umspinnt mit seinen Verbindungen vorzugsweise jene Eindrücke und Vorstellungen des Vorbewußten\n",
      "rstärkt hat . Wir sind aber um keinen Schritt der Lösung des Rätsels nähergekommen , warum das Unbewußte im Schlafe nichts anderes bieten kann als die Triebkraft zu einer Wunscherfüllung ? Die Beantw\n",
      "eits erörtert . Schon im Laufe des Tages oder erst mit Herstellung des Schlafzustandes hat der unbewußte Wunsch sich den Weg zu den Tagesresten gebahnt , seine Übertragung auf sie bewerkstelligt . Es\n",
      "tachierten Aufmerksamkeit für ihn eine Ersparnis an Energie darstellt gegen den Fall , daß das Unbewußte nachts ebenso in Schranken gehalten werden sollte wie tagsüber . Wie die Erfahrung zeigt , ble\n",
      "ag nicht stark genug , sich vernehmbar zu machen . Wenn aber der Schlafzustand besteht und der unbewußte Wunsch die Kraft gezeigt hat , einen Traum zu bilden und mit ihm das Vorbewußte zu wecken , wa\n",
      " bekommt hievon den stärksten Eindruck beim Studium der Neurosen , speziell der Hysterie . Der unbewußte Gedankenweg , der zur Entladung im Anfall führt , ist sofort wieder gangbar , wenn sich genug \n",
      "Vbw~ entgegenkommt , weil sie durch die Bewußtseinserregung hingelenkt worden ist , bindet die unbewußte Erregung des Traumes und macht sie als Störung unschädlich . Wenn der Träumer für einen Augenb\n",
      " Traum durch einen kleinen Aufwand von vorbewußter Arbeit zu binden und zu erledigen , als das Unbewußte auch die ganze Zeit des Schlafens über im Zaume zu halten . Es stand ja zu erwarten , daß der \n",
      "ssen . Nicht der Traum bildet die Phantasie , sondern an der Bildung der Traumgedanken hat die unbewußte Phantasietätigkeit den größten Anteil . Wir bleiben _Scherner_ für den Hinweis auf die Quelle \n",
      " Zugang zum Bewußtsein erhält . Wir können sagen , der bisher vorbewußte Gedankengang ist _ins Unbewußte gezogen_ worden . ( 244 ) Vgl . hiezu die bedeutsamen Darlegungen von J . _Breuer_ in unseren \n",
      "ie an die Tätigkeit des sekundären Systems geknüpft ist . Die Erinnerungen , von denen aus der unbewußte Wunsch die Affektentbindung hervorruft , waren dem ~Vbw~ niemals zugänglich ; darum ist deren \n",
      "nzeichnet das Eingreifen des Unlustprinzips als zweckmäßig . Anders aber , wenn der verdrängte unbewußte Wunsch eine organische Verstärkung erfährt , die er seinen Übertragungsgedanken leihen , wodur\n",
      "sychopathologie des Alltagslebens « gesammelt erschienen ( 1904 , 4 . Aufl . 1912 ) . f ) _Das Unbewußte und das Bewußtsein_ . -- _Die Realität_ . Wenn wir genauer zusehen , ist es nicht der Bestand \n",
      "se Frage durch die Worterklärung erledigte , das » Psychische « sei eben das » Bewußte « und » unbewußte psychische Vorgänge « ein greifbarer Widersinn , blieb eine psychologische Verwertung der Beob\n",
      "sgeschlossen . Erst dann treffen der Arzt und der Philosoph zusammen , wenn beide anerkennen , unbewußte psychische Vorgänge seien » der zweckmäßige und wohlberechtigte Ausdruck für eine feststehende\n",
      "zur unerläßlichen Vorbedingung für jede richtige Einsicht in den Hergang des Psychischen . Das Unbewußte muß nach dem Ausdrucke von _Lipps_ als allgemeine Basis des psychischen Lebens angenommen werd\n",
      " dem Ausdrucke von _Lipps_ als allgemeine Basis des psychischen Lebens angenommen werden . Das Unbewußte ist der größere Kreis , der den kleineren des Bewußten in sich einschließt ; alles Bewußte hat\n",
      "er größere Kreis , der den kleineren des Bewußten in sich einschließt ; alles Bewußte hat eine unbewußte Vorstufe , während das Unbewußte auf dieser Stufe stehen bleiben und doch den vollen Wert eine\n",
      "ren des Bewußten in sich einschließt ; alles Bewußte hat eine unbewußte Vorstufe , während das Unbewußte auf dieser Stufe stehen bleiben und doch den vollen Wert einer psychischen Leistung beanspruch\n",
      "ufe stehen bleiben und doch den vollen Wert einer psychischen Leistung beanspruchen kann . Das Unbewußte ist das eigentlich reale Psychische , _uns nach seiner inneren Natur so unbekannt wie das Real\n",
      "ll es bloß den Gegensatz zu dem Bewußten bezeichnen ; daß es außer den bewußten Vorgängen auch unbewußte psychische gibt , ist die heiß bestrittene und energisch verteidigte Erkenntnis . Bei _Lipps_ \n",
      "chen Bildungen und schon ihres ersten Gliedes , der Träume , gelehrt , besteht darin , daß das Unbewußte -- also das Psychische -- als Funktion zweier gesonderter Systeme vorkommt und schon im normal\n",
      "ufgehoben ; ja , sie begegnen oft darum keinem psychischen Hindernis auf ihrem Wege , weil das Unbewußte ihrer anderweitigen Verhinderung sicher ist . Es bleibt auf alle Fälle lehrreich , den viel du\n",
      "am-consciousness . Americ . J. of Psychol . vol . VII , 1895 , p. 405-411 . # Wehr Hans. # Das Unbewußte im menschlichen Denken . Programm der Oberrealschule zu Klagenfurt 1887 . # Weil Alex. # La ph\n",
      ", H. 1 . * -- Traumdarstellungen analer Weckreize . Ebenda , p. 489 . * # Sadger J. # Über das Unbewußte und die Träume bei Hebbel . Imago , Juni 1913 . # Samuely O. # Über Bewußtseinsvorgänge im Sch\n",
      "Words: 256494\n",
      "Most frequent words: [(',', 17591), ('.', 11484), ('der', 6578), ('die', 6301), ('und', 4111), ('in', 3187), ('den', 2969), ('des', 2419), ('zu', 2395), ('sich', 2001)]\n",
      "unbewußt: 16\n",
      "\n"
     ]
    },
    {
     "name": "stderr",
     "output_type": "stream",
     "text": [
      "C:\\Users\\RobertRoessler\\Anaconda3\\lib\\site-packages\\ipykernel_launcher.py:2: DeprecationWarning: 'U' mode is deprecated\n",
      "  \n"
     ]
    }
   ],
   "source": [
    "# example \n",
    "sample = open('stdout.txt', 'rU', encoding=\"utf8\")\n",
    "sampleText = sample.read()\n",
    "print(sampleText)"
   ]
  },
  {
   "cell_type": "code",
   "execution_count": 154,
   "metadata": {
    "scrolled": true
   },
   "outputs": [],
   "source": [
    "# strip off punctuation and split string into words\n",
    "sampleText = re.sub(r\"[-()\\\"#/@;:<>{}`+=~|.!?,«»]\", \"\", sampleText)\n",
    "tmpArray = sampleText.split()"
   ]
  },
  {
   "cell_type": "code",
   "execution_count": 155,
   "metadata": {},
   "outputs": [],
   "source": [
    "# define keyword\n",
    "keyword = \"unbewußte\"\n",
    "\n",
    "# set up empty array\n",
    "overall = []\n",
    "\n",
    "# \n",
    "for i in range(len(tmpArray)):\n",
    "    if tmpArray[i] == keyword:\n",
    "        tmp =[]\n",
    "        tmp = [tmpArray[i-7],tmpArray[i-6],tmpArray[i-5],tmpArray[i-4],tmpArray[i-3],tmpArray[i-2],tmpArray[i-1],tmpArray[i],\n",
    "               tmpArray[i+1], tmpArray[i+2],tmpArray[i+3],tmpArray[i+4], tmpArray[i+5],tmpArray[i+6],tmpArray[i+7]]\n",
    "        overall.append(tmp)\n",
    "        \n",
    "    "
   ]
  },
  {
   "cell_type": "code",
   "execution_count": 156,
   "metadata": {},
   "outputs": [
    {
     "name": "stdout",
     "output_type": "stream",
     "text": [
      "[['die', 'sonst', 'unterdrückte', 'erste', 'auffasse', 'wurde', 'die', 'unbewußte', 'Feindseligkeit', 'gegen', 'die', 'Mutter', 'motorisch', 'mächtig', 'als'], ['hatte', 'ich', 'Gelegenheit', 'tiefe', 'Einblicke', 'in', 'das', 'unbewußte', 'Seelenleben', 'eines', 'jungen', 'Mannes', 'zu', 'tun', 'der'], ['Blumenschenken', 'unter', 'Liebenden', 'hat', 'vielleicht', 'überhaupt', 'diese', 'unbewußte', 'Bedeutung', 'Der', 'Geburtstag', 'den', 'sie', 'im', 'Traume'], ['anderen', 'erübrigen', 'so', 'viele', 'und', 'so', 'starke', 'unbewußte', 'Wünsche', 'die', 'nun', 'im', 'Schlafzustande', 'traumerzeugend', 'wirken'], ['begraben', 'zu', 'werden', 'als', 'auch', 'die', 'tiefste', 'unbewußte', 'Begründung', 'des', 'Glaubens', 'an', 'ein', 'Fortleben', 'nach'], ['Sicherheit', 'vollzogen', 'werden', 'Vgl', 'auch', '_Jones_', 'Über', 'unbewußte', 'Zahlenbehandlung', 'Zentralbl', 'f', 'PSA', 'II', '1912', 'S'], ['die', 'zentrifugale', 'Erweckung', 'von', 'Affekten', 'durch', 'das', 'unbewußte', 'Denken', 'während', 'des', 'Schlafes', 'erschwert', 'sein', 'Die'], ['nagenden', 'Wünsche', 'des', 'alternden', 'Mannes', 'als', 'der', 'unbewußte', 'Traumerreger', 'verraten', 'Der', 'in', 'anderen', 'psychischen', 'Schichten'], ['solche', 'bewußte', 'Phantasien', 'gibt', 'so', 'kommen', 'überreichlich', 'unbewußte', 'vor', 'die', 'wegen', 'ihres', 'Inhaltes', 'und', 'ihrer'], ['Stücke', 'desselben', 'Traumes', 'ich', 'weiß', 'dies', 'sind', 'unbewußte', 'Phantasien', 'die', 'im', 'Zusammenhange', 'in', 'den', 'Traum'], ['die', 'Traumdeutung', 'bin', 'ich', 'Träumen', 'in', 'denen', 'unbewußte', 'Phantasien', 'eine', 'erheblichere', 'Rolle', 'spielen', 'möglichst', 'ausgewichen'], ['Narzissmus', 'Jahrbuch', 'der', 'Psychoanalyse', 'VI', '1914', 'Das', 'unbewußte', 'Denken', 'und', 'die', 'Traumarbeit', 'Ich', 'gehe', 'nun'], ['dieser', 'sofort', 'unbekannte', 'wie', 'wir', 'ungenau', 'sagen', 'unbewußte', 'Zielvorstellungen', 'zur', 'Macht', 'kommen', 'die', 'jetzt', 'den'], ['wegen', 'dieses', 'letzteren', 'Momentes', 'wollen', 'wir', 'das', 'unbewußte', 'System', 'als', 'den', 'Ausgangspunkt', 'der', 'Traumbildung', 'annehmen'], ['wieder', 'zur', 'Abfuhr', 'leiten', 'so', 'oft', 'die', 'unbewußte', 'Erregung', 'sie', 'wiederbesetzt', 'Um', 'mich', 'eines', 'Gleichnisses'], ['bestand', 'auch', 'keiner', 'in', 'unserem', 'Beispiele', 'Der', 'unbewußte', 'Wunsch', 'als', 'Triebkraft', 'des', 'Traumes', 'Ich', 'kann'], ['kann', 'es', 'nun', 'scharf', 'bezeichnen', 'was', 'der', 'unbewußte', 'Wuns', 'Der', 'unbewußte', 'Wunsch', 'als', 'Triebkraft', 'des'], ['scharf', 'bezeichnen', 'was', 'der', 'unbewußte', 'Wuns', 'Der', 'unbewußte', 'Wunsch', 'als', 'Triebkraft', 'des', 'Traumes', 'Ich', 'kann'], ['kann', 'es', 'nun', 'scharf', 'bezeichnen', 'was', 'der', 'unbewußte', 'Wunsch', 'für', 'den', 'Traum', 'bedeutet', 'Ich', 'will'], ['befragt', 'Aus', 'dieser', 'erfährt', 'man', 'daß', 'die', 'unbewußte', 'Vorstellung', 'als', 'solche', 'überhaupt', 'unfähig', 'ist', 'ins'], ['erst', 'mit', 'Herstellung', 'des', 'Schlafzustandes', 'hat', 'der', 'unbewußte', 'Wunsch', 'sich', 'den', 'Weg', 'zu', 'den', 'Tagesresten'], ['Wenn', 'aber', 'der', 'Schlafzustand', 'besteht', 'und', 'der', 'unbewußte', 'Wunsch', 'die', 'Kraft', 'gezeigt', 'hat', 'einen', 'Traum'], ['Studium', 'der', 'Neurosen', 'speziell', 'der', 'Hysterie', 'Der', 'unbewußte', 'Gedankenweg', 'der', 'zur', 'Entladung', 'im', 'Anfall', 'führt'], ['die', 'Bewußtseinserregung', 'hingelenkt', 'worden', 'ist', 'bindet', 'die', 'unbewußte', 'Erregung', 'des', 'Traumes', 'und', 'macht', 'sie', 'als'], ['an', 'der', 'Bildung', 'der', 'Traumgedanken', 'hat', 'die', 'unbewußte', 'Phantasietätigkeit', 'den', 'größten', 'Anteil', 'Wir', 'bleiben', '_Scherner_'], ['ist', 'Die', 'Erinnerungen', 'von', 'denen', 'aus', 'der', 'unbewußte', 'Wunsch', 'die', 'Affektentbindung', 'hervorruft', 'waren', 'dem', 'Vbw'], ['als', 'zweckmäßig', 'Anders', 'aber', 'wenn', 'der', 'verdrängte', 'unbewußte', 'Wunsch', 'eine', 'organische', 'Verstärkung', 'erfährt', 'die', 'er'], ['das', 'Psychische', 'sei', 'eben', 'das', 'Bewußte', 'und', 'unbewußte', 'psychische', 'Vorgänge', 'ein', 'greifbarer', 'Widersinn', 'blieb', 'eine'], ['und', 'der', 'Philosoph', 'zusammen', 'wenn', 'beide', 'anerkennen', 'unbewußte', 'psychische', 'Vorgänge', 'seien', 'der', 'zweckmäßige', 'und', 'wohlberechtigte'], ['in', 'sich', 'einschließt', 'alles', 'Bewußte', 'hat', 'eine', 'unbewußte', 'Vorstufe', 'während', 'das', 'Unbewußte', 'auf', 'dieser', 'Stufe'], ['in', 'sich', 'einschließt', 'alles', 'Bewußte', 'hat', 'eine', 'unbewußte', 'Vorstufe', 'während', 'das', 'Unbewußte', 'auf', 'dieser', 'Stufe'], ['daß', 'es', 'außer', 'den', 'bewußten', 'Vorgängen', 'auch', 'unbewußte', 'psychische', 'gibt', 'ist', 'die', 'heiß', 'bestrittene', 'und']]\n"
     ]
    }
   ],
   "source": [
    "print(overall)"
   ]
  },
  {
   "cell_type": "code",
   "execution_count": 157,
   "metadata": {},
   "outputs": [
    {
     "name": "stdout",
     "output_type": "stream",
     "text": [
      "[[\"die\", \"sonst\", \"unterdrückte\", \"erste\", \"auffasse\", \"wurde\", \"die\", \"unbewußte\", \"Feindseligkeit\", \"gegen\", \"die\", \"Mutter\", \"motorisch\", \"mächtig\", \"als\"], [\"hatte\", \"ich\", \"Gelegenheit\", \"tiefe\", \"Einblicke\", \"in\", \"das\", \"unbewußte\", \"Seelenleben\", \"eines\", \"jungen\", \"Mannes\", \"zu\", \"tun\", \"der\"], [\"Blumenschenken\", \"unter\", \"Liebenden\", \"hat\", \"vielleicht\", \"überhaupt\", \"diese\", \"unbewußte\", \"Bedeutung\", \"Der\", \"Geburtstag\", \"den\", \"sie\", \"im\", \"Traume\"], [\"anderen\", \"erübrigen\", \"so\", \"viele\", \"und\", \"so\", \"starke\", \"unbewußte\", \"Wünsche\", \"die\", \"nun\", \"im\", \"Schlafzustande\", \"traumerzeugend\", \"wirken\"], [\"begraben\", \"zu\", \"werden\", \"als\", \"auch\", \"die\", \"tiefste\", \"unbewußte\", \"Begründung\", \"des\", \"Glaubens\", \"an\", \"ein\", \"Fortleben\", \"nach\"], [\"Sicherheit\", \"vollzogen\", \"werden\", \"Vgl\", \"auch\", \"_Jones_\", \"Über\", \"unbewußte\", \"Zahlenbehandlung\", \"Zentralbl\", \"f\", \"PSA\", \"II\", \"1912\", \"S\"], [\"die\", \"zentrifugale\", \"Erweckung\", \"von\", \"Affekten\", \"durch\", \"das\", \"unbewußte\", \"Denken\", \"während\", \"des\", \"Schlafes\", \"erschwert\", \"sein\", \"Die\"], [\"nagenden\", \"Wünsche\", \"des\", \"alternden\", \"Mannes\", \"als\", \"der\", \"unbewußte\", \"Traumerreger\", \"verraten\", \"Der\", \"in\", \"anderen\", \"psychischen\", \"Schichten\"], [\"solche\", \"bewußte\", \"Phantasien\", \"gibt\", \"so\", \"kommen\", \"überreichlich\", \"unbewußte\", \"vor\", \"die\", \"wegen\", \"ihres\", \"Inhaltes\", \"und\", \"ihrer\"], [\"Stücke\", \"desselben\", \"Traumes\", \"ich\", \"weiß\", \"dies\", \"sind\", \"unbewußte\", \"Phantasien\", \"die\", \"im\", \"Zusammenhange\", \"in\", \"den\", \"Traum\"], [\"die\", \"Traumdeutung\", \"bin\", \"ich\", \"Träumen\", \"in\", \"denen\", \"unbewußte\", \"Phantasien\", \"eine\", \"erheblichere\", \"Rolle\", \"spielen\", \"möglichst\", \"ausgewichen\"], [\"Narzissmus\", \"Jahrbuch\", \"der\", \"Psychoanalyse\", \"VI\", \"1914\", \"Das\", \"unbewußte\", \"Denken\", \"und\", \"die\", \"Traumarbeit\", \"Ich\", \"gehe\", \"nun\"], [\"dieser\", \"sofort\", \"unbekannte\", \"wie\", \"wir\", \"ungenau\", \"sagen\", \"unbewußte\", \"Zielvorstellungen\", \"zur\", \"Macht\", \"kommen\", \"die\", \"jetzt\", \"den\"], [\"wegen\", \"dieses\", \"letzteren\", \"Momentes\", \"wollen\", \"wir\", \"das\", \"unbewußte\", \"System\", \"als\", \"den\", \"Ausgangspunkt\", \"der\", \"Traumbildung\", \"annehmen\"], [\"wieder\", \"zur\", \"Abfuhr\", \"leiten\", \"so\", \"oft\", \"die\", \"unbewußte\", \"Erregung\", \"sie\", \"wiederbesetzt\", \"Um\", \"mich\", \"eines\", \"Gleichnisses\"], [\"bestand\", \"auch\", \"keiner\", \"in\", \"unserem\", \"Beispiele\", \"Der\", \"unbewußte\", \"Wunsch\", \"als\", \"Triebkraft\", \"des\", \"Traumes\", \"Ich\", \"kann\"], [\"kann\", \"es\", \"nun\", \"scharf\", \"bezeichnen\", \"was\", \"der\", \"unbewußte\", \"Wuns\", \"Der\", \"unbewußte\", \"Wunsch\", \"als\", \"Triebkraft\", \"des\"], [\"scharf\", \"bezeichnen\", \"was\", \"der\", \"unbewußte\", \"Wuns\", \"Der\", \"unbewußte\", \"Wunsch\", \"als\", \"Triebkraft\", \"des\", \"Traumes\", \"Ich\", \"kann\"], [\"kann\", \"es\", \"nun\", \"scharf\", \"bezeichnen\", \"was\", \"der\", \"unbewußte\", \"Wunsch\", \"für\", \"den\", \"Traum\", \"bedeutet\", \"Ich\", \"will\"], [\"befragt\", \"Aus\", \"dieser\", \"erfährt\", \"man\", \"daß\", \"die\", \"unbewußte\", \"Vorstellung\", \"als\", \"solche\", \"überhaupt\", \"unfähig\", \"ist\", \"ins\"], [\"erst\", \"mit\", \"Herstellung\", \"des\", \"Schlafzustandes\", \"hat\", \"der\", \"unbewußte\", \"Wunsch\", \"sich\", \"den\", \"Weg\", \"zu\", \"den\", \"Tagesresten\"], [\"Wenn\", \"aber\", \"der\", \"Schlafzustand\", \"besteht\", \"und\", \"der\", \"unbewußte\", \"Wunsch\", \"die\", \"Kraft\", \"gezeigt\", \"hat\", \"einen\", \"Traum\"], [\"Studium\", \"der\", \"Neurosen\", \"speziell\", \"der\", \"Hysterie\", \"Der\", \"unbewußte\", \"Gedankenweg\", \"der\", \"zur\", \"Entladung\", \"im\", \"Anfall\", \"führt\"], [\"die\", \"Bewußtseinserregung\", \"hingelenkt\", \"worden\", \"ist\", \"bindet\", \"die\", \"unbewußte\", \"Erregung\", \"des\", \"Traumes\", \"und\", \"macht\", \"sie\", \"als\"], [\"an\", \"der\", \"Bildung\", \"der\", \"Traumgedanken\", \"hat\", \"die\", \"unbewußte\", \"Phantasietätigkeit\", \"den\", \"größten\", \"Anteil\", \"Wir\", \"bleiben\", \"_Scherner_\"], [\"ist\", \"Die\", \"Erinnerungen\", \"von\", \"denen\", \"aus\", \"der\", \"unbewußte\", \"Wunsch\", \"die\", \"Affektentbindung\", \"hervorruft\", \"waren\", \"dem\", \"Vbw\"], [\"als\", \"zweckmäßig\", \"Anders\", \"aber\", \"wenn\", \"der\", \"verdrängte\", \"unbewußte\", \"Wunsch\", \"eine\", \"organische\", \"Verstärkung\", \"erfährt\", \"die\", \"er\"], [\"das\", \"Psychische\", \"sei\", \"eben\", \"das\", \"Bewußte\", \"und\", \"unbewußte\", \"psychische\", \"Vorgänge\", \"ein\", \"greifbarer\", \"Widersinn\", \"blieb\", \"eine\"], [\"und\", \"der\", \"Philosoph\", \"zusammen\", \"wenn\", \"beide\", \"anerkennen\", \"unbewußte\", \"psychische\", \"Vorgänge\", \"seien\", \"der\", \"zweckmäßige\", \"und\", \"wohlberechtigte\"], [\"in\", \"sich\", \"einschließt\", \"alles\", \"Bewußte\", \"hat\", \"eine\", \"unbewußte\", \"Vorstufe\", \"während\", \"das\", \"Unbewußte\", \"auf\", \"dieser\", \"Stufe\"], [\"in\", \"sich\", \"einschließt\", \"alles\", \"Bewußte\", \"hat\", \"eine\", \"unbewußte\", \"Vorstufe\", \"während\", \"das\", \"Unbewußte\", \"auf\", \"dieser\", \"Stufe\"], [\"daß\", \"es\", \"außer\", \"den\", \"bewußten\", \"Vorgängen\", \"auch\", \"unbewußte\", \"psychische\", \"gibt\", \"ist\", \"die\", \"heiß\", \"bestrittene\", \"und\"]]\n"
     ]
    }
   ],
   "source": [
    "test = json.dumps(overall, ensure_ascii=False)\n",
    "\n",
    "print(test)"
   ]
  },
  {
   "cell_type": "code",
   "execution_count": null,
   "metadata": {
    "collapsed": true
   },
   "outputs": [],
   "source": []
  }
 ],
 "metadata": {
  "kernelspec": {
   "display_name": "Python 3",
   "language": "python",
   "name": "python3"
  },
  "language_info": {
   "codemirror_mode": {
    "name": "ipython",
    "version": 3
   },
   "file_extension": ".py",
   "mimetype": "text/x-python",
   "name": "python",
   "nbconvert_exporter": "python",
   "pygments_lexer": "ipython3",
   "version": "3.6.8"
  }
 },
 "nbformat": 4,
 "nbformat_minor": 2
}
