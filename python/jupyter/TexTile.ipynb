{
 "cells": [
  {
   "cell_type": "code",
   "execution_count": null,
   "metadata": {
    "collapsed": true
   },
   "outputs": [],
   "source": [
    "import nltk\n",
    "\n",
    "\n",
    "\n"
   ]
  },
  {
   "cell_type": "code",
   "execution_count": null,
   "metadata": {
    "collapsed": true
   },
   "outputs": [],
   "source": [
    "\n",
    "Freud = open('Traumdeutung2.txt', 'rU', encoding=\"utf8\")\n",
    "raw = Freud.read()\n",
    "\n",
    "# tokenize raw text\n",
    "tokens = nltk.word_tokenize(raw)\n",
    "\n",
    "# TODO: CLEANUP - depunctuate, deuppercaseify, stopwords, stemming\n",
    "\n",
    "# create NLTK text from the tokens in order to perform all the linguistic processing that NLTK allows us to do\n",
    "text = nltk.Text(tokens)\n"
   ]
  }
 ],
 "metadata": {
  "kernelspec": {
   "display_name": "Python 3",
   "language": "python",
   "name": "python3"
  },
  "language_info": {
   "codemirror_mode": {
    "name": "ipython",
    "version": 3
   },
   "file_extension": ".py",
   "mimetype": "text/x-python",
   "name": "python",
   "nbconvert_exporter": "python",
   "pygments_lexer": "ipython3",
   "version": "3.6.8"
  }
 },
 "nbformat": 4,
 "nbformat_minor": 2
}
