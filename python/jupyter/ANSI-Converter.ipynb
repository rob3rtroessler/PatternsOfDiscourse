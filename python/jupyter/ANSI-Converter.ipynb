{
 "cells": [
  {
   "cell_type": "code",
   "execution_count": 67,
   "metadata": {
    "collapsed": true
   },
   "outputs": [],
   "source": [
    "import os\n",
    "import re\n",
    "import string"
   ]
  },
  {
   "cell_type": "code",
   "execution_count": 74,
   "metadata": {},
   "outputs": [],
   "source": [
    "# list all directories\n",
    "all_directories = os.listdir(\"../FreudLetters_old\")\n",
    "\n",
    "for directory in all_directories:\n",
    "    \n",
    "    # get all files in that directory\n",
    "    all_texts = os.listdir(\"../FreudLetters_old/\" + directory)\n",
    "    \n",
    "    # convert each text in all directories\n",
    "    for text in all_texts:\n",
    "        \n",
    "        sample = open(\"../FreudLetters_old/\" + directory + '/' + text, 'r', encoding='ANSI', errors='ignore')\n",
    "        sampleText = sample.read()\n",
    "\n",
    "        # replace á with ß\n",
    "        sampleText = re.sub(r\"[á]\", \"ß\", sampleText)\n",
    "\n",
    "        # replace „ with ä\n",
    "        sampleText = re.sub(r\"[„]\", \"ä\", sampleText)\n",
    "\n",
    "        # replace  with ü - notice that there are two types of , however, the second type is actually  !\n",
    "        sampleText = re.sub(r\"[]\", \"ü\", sampleText)\n",
    "\n",
    "        # delete \u001f  \n",
    "        sampleText = re.sub(r\"[\u001f]\", \"\", sampleText)\n",
    "\n",
    "        # replace ” with ö \n",
    "        sampleText = re.sub(r\"[”]\", \"ö\", sampleText)\n",
    "\n",
    "        # replace ™ with Ö\n",
    "        sampleText = re.sub(r\"[™]\", \"Ö\", sampleText)\n",
    "\n",
    "        # replace š with Ü\n",
    "        sampleText = re.sub(r\"[š]\", \"Ü\", sampleText)\n",
    "\n",
    "        # prepare new filename\n",
    "        fileNameFirstPart = text.split('.')\n",
    "\n",
    "        newConvTextFIle = open(\"../FreudLetters_new/\" + directory + '/' + fileNameFirstPart[0] + \"_converted.txt\", \"w\", encoding=\"utf-8\")\n",
    "\n",
    "        newConvTextFIle.write(sampleText)\n",
    "\n",
    "        newConvTextFIle.close()"
   ]
  }
 ],
 "metadata": {
  "kernelspec": {
   "display_name": "Python 3",
   "language": "python",
   "name": "python3"
  },
  "language_info": {
   "codemirror_mode": {
    "name": "ipython",
    "version": 3
   },
   "file_extension": ".py",
   "mimetype": "text/x-python",
   "name": "python",
   "nbconvert_exporter": "python",
   "pygments_lexer": "ipython3",
   "version": "3.6.8"
  }
 },
 "nbformat": 4,
 "nbformat_minor": 2
}
