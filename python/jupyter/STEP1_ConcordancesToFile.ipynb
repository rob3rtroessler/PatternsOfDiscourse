{
 "cells": [
  {
   "cell_type": "code",
   "execution_count": 5,
   "metadata": {},
   "outputs": [
    {
     "name": "stderr",
     "output_type": "stream",
     "text": [
      "C:\\Users\\RobertRoessler\\Anaconda3\\lib\\site-packages\\ipykernel_launcher.py:3: DeprecationWarning: 'U' mode is deprecated\n",
      "  This is separate from the ipykernel package so we can avoid doing imports until\n"
     ]
    }
   ],
   "source": [
    "import nltk\n",
    "\n",
    "Freud = open('corpustexts/verdraengung/FreudVerdraengung.txt', 'rU', encoding=\"utf8\")\n",
    "raw = Freud.read()\n"
   ]
  },
  {
   "cell_type": "code",
   "execution_count": 6,
   "metadata": {
    "collapsed": true
   },
   "outputs": [],
   "source": [
    "\n",
    "# tokenize raw text\n",
    "tokens = nltk.word_tokenize(raw)\n",
    "\n",
    "# TODO: CLEANUP - depunctuate, deuppercaseify, stopwords, stemming\n",
    "\n",
    "# create NLTK text from the tokens in order to perform all the linguistic processing that NLTK allows us to do\n",
    "text = nltk.Text(tokens)\n",
    "\n",
    "\n",
    "\n"
   ]
  },
  {
   "cell_type": "code",
   "execution_count": 7,
   "metadata": {
    "collapsed": true
   },
   "outputs": [],
   "source": [
    "import sys\n",
    "old_stdout = sys.stdout\n",
    "sys.stdout = open('stdout.txt', 'w', encoding=\"utf8\")"
   ]
  },
  {
   "cell_type": "code",
   "execution_count": 8,
   "metadata": {
    "collapsed": true
   },
   "outputs": [],
   "source": [
    "text.concordance('verdräng', 400, lines=50)"
   ]
  },
  {
   "cell_type": "code",
   "execution_count": 29,
   "metadata": {},
   "outputs": [
    {
     "data": {
      "image/png": "[encoded data removed]",
      "text/plain": [
       "<matplotlib.figure.Figure at 0x215b973fd68>"
      ]
     },
     "metadata": {},
     "output_type": "display_data"
    }
   ],
   "source": [
    "# print(tmp)\n",
    "\n",
    "\n",
    "# calculate length of text (in words)\n",
    "WordCount = len(tokens)\n",
    "print(\"Words:\", WordCount)\n",
    "\n",
    "# calculate frequency distribution\n",
    "fdist = nltk.FreqDist(tokens)\n",
    "print(\"Most frequent words:\", fdist.most_common(10))\n",
    "print(\"unbewußt:\", fdist['unbewußt'])\n",
    "\n",
    "# dispersion plot\n",
    "text.dispersion_plot([\"Traum\", \"bewußt\", \"unbewußt\", \"Unbewußte\", \"unbewußte\"])"
   ]
  },
  {
   "cell_type": "code",
   "execution_count": null,
   "metadata": {
    "collapsed": true
   },
   "outputs": [],
   "source": []
  }
 ],
 "metadata": {
  "kernelspec": {
   "display_name": "Python 3",
   "language": "python",
   "name": "python3"
  },
  "language_info": {
   "codemirror_mode": {
    "name": "ipython",
    "version": 3
   },
   "file_extension": ".py",
   "mimetype": "text/x-python",
   "name": "python",
   "nbconvert_exporter": "python",
   "pygments_lexer": "ipython3",
   "version": "3.6.8"
  }
 },
 "nbformat": 4,
 "nbformat_minor": 2
}
